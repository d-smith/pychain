{
 "cells": [
  {
   "cell_type": "markdown",
   "id": "f1242045",
   "metadata": {},
   "source": [
    "# Hello Web 3\n",
    "\n",
    "Simple python notebook for some eth basics\n",
    "\n",
    "## Part 1 - Connect to Local Ganache Server\n",
    "\n",
    "This part shows how to connect to a local ganache node, and how to use the seed phrase associated with the instance to generate the accounts and access the private keys using the same HD scheme as the server."
   ]
  },
  {
   "cell_type": "code",
   "execution_count": null,
   "id": "0886acb3",
   "metadata": {},
   "outputs": [],
   "source": [
    "from web3 import Web3\n",
    "w3 = Web3(Web3.HTTPProvider('http://127.0.0.1:8545'))\n",
    "print(w3.isConnected())"
   ]
  },
  {
   "cell_type": "code",
   "execution_count": null,
   "id": "bd1265e8",
   "metadata": {},
   "outputs": [],
   "source": [
    " w3.eth.get_block('latest')"
   ]
  },
  {
   "cell_type": "code",
   "execution_count": null,
   "id": "3e5c90b2",
   "metadata": {},
   "outputs": [],
   "source": [
    "# The accounts associated with the ganache node\n",
    "w3.eth.accounts"
   ]
  },
  {
   "cell_type": "code",
   "execution_count": null,
   "id": "30345d48",
   "metadata": {},
   "outputs": [],
   "source": [
    "# starting ganache deterministically with a seed phrase ensures the following seed phrase is used\n",
    "# for the pre-built accounts and keys\n",
    "#\n",
    "# First account address is 0x892BB2e4F6b14a2B5b82Ba8d33E5925D42D4431F\n",
    "# First private key is  0xcb1a18dff8cfcee16202bf86f1f89f8b3881107b8192cd06836fda9dbc0fde1b\n",
    "seed_phrase = \"drastic alpha short deposit resource future action base gun inner cover net\""
   ]
  },
  {
   "cell_type": "code",
   "execution_count": null,
   "id": "76183dcf",
   "metadata": {},
   "outputs": [],
   "source": [
    " w3.eth.account.enable_unaudited_hdwallet_features()\n",
    "owner_account = w3.eth.account.from_mnemonic(seed_phrase, account_path=\"m/44'/60'/0'/0/0\")"
   ]
  },
  {
   "cell_type": "code",
   "execution_count": null,
   "id": "b8c0b80a",
   "metadata": {},
   "outputs": [],
   "source": [
    "owner_account.address"
   ]
  },
  {
   "cell_type": "code",
   "execution_count": null,
   "id": "2011d7cb",
   "metadata": {},
   "outputs": [],
   "source": [
    "owner_account.key"
   ]
  },
  {
   "cell_type": "markdown",
   "id": "2af85e82",
   "metadata": {},
   "source": [
    "## Part 2 - Call Smart Contract\n",
    "\n",
    "Adapted from [Smart Contracts in Python A Complete Guide](https://sesamedisk.com/smart-contracts-in-python-complete-guide/)"
   ]
  },
  {
   "cell_type": "code",
   "execution_count": null,
   "id": "84e41947",
   "metadata": {},
   "outputs": [],
   "source": [
    "from eth_utils import address\n",
    "from web3 import Web3\n",
    "import os\n",
    "from solcx import compile_standard, install_solc\n",
    "from dotenv import load_dotenv\n",
    "import json"
   ]
  },
  {
   "cell_type": "code",
   "execution_count": null,
   "id": "0f237b0c",
   "metadata": {},
   "outputs": [],
   "source": [
    "with open(\"./Token.sol\", \"r\") as file:\n",
    "    token_file = file.read()"
   ]
  },
  {
   "cell_type": "code",
   "execution_count": null,
   "id": "59e70713",
   "metadata": {},
   "outputs": [],
   "source": [
    "compiled_sol = compile_standard(\n",
    "    {\n",
    "        \"language\": \"Solidity\",\n",
    "        \"sources\": {\"Token.sol\": {\"content\": token_file}},\n",
    "        \"settings\": {\n",
    "            \"outputSelection\": {\n",
    "                \"*\": {\n",
    "                    \"*\": [\"abi\", \"metadata\", \"evm.bytecode\", \"evm.bytecode.sourceMap\"]\n",
    "                }\n",
    "            }\n",
    "        },\n",
    "    },\n",
    "    #solc_version=\"0.8.17+commit.8df45f5f.Linux.g++\",\n",
    ")\n",
    "\n",
    "with open(\"compiled_code.json\", \"w\") as file:\n",
    "    json.dump(compiled_sol, file)"
   ]
  },
  {
   "cell_type": "code",
   "execution_count": null,
   "id": "2e2cde8e",
   "metadata": {},
   "outputs": [],
   "source": [
    "bytecode = compiled_sol[\"contracts\"][\"Token.sol\"][\"Token\"][\"evm\"][\n",
    "    \"bytecode\"\n",
    "][\"object\"]"
   ]
  },
  {
   "cell_type": "code",
   "execution_count": null,
   "id": "32510f0e",
   "metadata": {},
   "outputs": [],
   "source": [
    "abi = json.loads(\n",
    "    compiled_sol[\"contracts\"][\"Token.sol\"][\"Token\"][\"metadata\"]\n",
    ")[\"output\"][\"abi\"]"
   ]
  },
  {
   "cell_type": "code",
   "execution_count": null,
   "id": "cb64ec2d",
   "metadata": {},
   "outputs": [],
   "source": [
    "chain_id = 1337"
   ]
  },
  {
   "cell_type": "code",
   "execution_count": null,
   "id": "8da54a3c",
   "metadata": {},
   "outputs": [],
   "source": [
    " nonce = w3.eth.get_transaction_count(owner_account.address)"
   ]
  },
  {
   "cell_type": "code",
   "execution_count": null,
   "id": "76f822ab",
   "metadata": {},
   "outputs": [],
   "source": [
    "# Deploy the contract by invoking the constructor\n",
    "\n",
    "# initialize contract\n",
    "Token = w3.eth.contract(abi=abi, bytecode=bytecode)\n",
    "nonce = w3.eth.getTransactionCount(owner_account.address)\n",
    "# set up transaction from constructor which executes when firstly\n",
    "transaction = Token.constructor().buildTransaction(\n",
    "    {\"chainId\": chain_id, \"from\": owner_account.address, \"nonce\": nonce}\n",
    ")\n"
   ]
  },
  {
   "cell_type": "code",
   "execution_count": null,
   "id": "8bb9b88f",
   "metadata": {},
   "outputs": [],
   "source": [
    "transaction"
   ]
  },
  {
   "cell_type": "code",
   "execution_count": null,
   "id": "11ceddbe",
   "metadata": {},
   "outputs": [],
   "source": [
    "signed_tx = w3.eth.signTransaction(transaction)"
   ]
  },
  {
   "cell_type": "code",
   "execution_count": null,
   "id": "6374d239",
   "metadata": {},
   "outputs": [],
   "source": [
    "tx_hash = w3.eth.send_raw_transaction(signed_tx.rawTransaction)\n",
    "tx_receipt = w3.eth.wait_for_transaction_receipt(tx_hash)"
   ]
  },
  {
   "cell_type": "code",
   "execution_count": null,
   "id": "9901e8b6",
   "metadata": {},
   "outputs": [],
   "source": []
  },
  {
   "cell_type": "code",
   "execution_count": null,
   "id": "717f5a10",
   "metadata": {},
   "outputs": [],
   "source": []
  },
  {
   "cell_type": "code",
   "execution_count": null,
   "id": "dcd1d5fd",
   "metadata": {},
   "outputs": [],
   "source": []
  },
  {
   "cell_type": "code",
   "execution_count": null,
   "id": "96d54256",
   "metadata": {},
   "outputs": [],
   "source": []
  },
  {
   "cell_type": "code",
   "execution_count": null,
   "id": "5886ce56",
   "metadata": {},
   "outputs": [],
   "source": []
  },
  {
   "cell_type": "code",
   "execution_count": null,
   "id": "363fffcf",
   "metadata": {},
   "outputs": [],
   "source": [
    "# Deployed from the hardhat getting started sample\n",
    "contract_address = '0xdb98a5bFBA239000213813B2615B8A96E950A79B'"
   ]
  },
  {
   "cell_type": "code",
   "execution_count": null,
   "id": "afd428f7",
   "metadata": {},
   "outputs": [],
   "source": [
    "token_abi='''\n",
    "[{\"inputs\":[],\"stateMutability\":\"nonpayable\",\"type\":\"constructor\"},{\"anonymous\":false,\"inputs\":[{\"indexed\":true,\"internalType\":\"address\",\"name\":\"_from\",\"type\":\"address\"},{\"indexed\":true,\"internalType\":\"address\",\"name\":\"_to\",\"type\":\"address\"},{\"indexed\":false,\"internalType\":\"uint256\",\"name\":\"_value\",\"type\":\"uint256\"}],\"name\":\"Transfer\",\"type\":\"event\"},{\"inputs\":[{\"internalType\":\"address\",\"name\":\"account\",\"type\":\"address\"}],\"name\":\"balanceOf\",\"outputs\":[{\"internalType\":\"uint256\",\"name\":\"\",\"type\":\"uint256\"}],\"stateMutability\":\"view\",\"type\":\"function\"},{\"inputs\":[],\"name\":\"name\",\"outputs\":[{\"internalType\":\"string\",\"name\":\"\",\"type\":\"string\"}],\"stateMutability\":\"view\",\"type\":\"function\"},{\"inputs\":[],\"name\":\"owner\",\"outputs\":[{\"internalType\":\"address\",\"name\":\"\",\"type\":\"address\"}],\"stateMutability\":\"view\",\"type\":\"function\"},{\"inputs\":[],\"name\":\"symbol\",\"outputs\":[{\"internalType\":\"string\",\"name\":\"\",\"type\":\"string\"}],\"stateMutability\":\"view\",\"type\":\"function\"},{\"inputs\":[],\"name\":\"totalSupply\",\"outputs\":[{\"internalType\":\"uint256\",\"name\":\"\",\"type\":\"uint256\"}],\"stateMutability\":\"view\",\"type\":\"function\"},{\"inputs\":[{\"internalType\":\"address\",\"name\":\"to\",\"type\":\"address\"},{\"internalType\":\"uint256\",\"name\":\"amount\",\"type\":\"uint256\"}],\"name\":\"transfer\",\"outputs\":[],\"stateMutability\":\"nonpayable\",\"type\":\"function\"}]\n",
    "'''"
   ]
  },
  {
   "cell_type": "code",
   "execution_count": null,
   "id": "fb0ae224",
   "metadata": {},
   "outputs": [],
   "source": [
    "token_contract = w3.eth.contract(contract_address,abi=abi)"
   ]
  },
  {
   "cell_type": "code",
   "execution_count": null,
   "id": "1370cfa1",
   "metadata": {},
   "outputs": [],
   "source": [
    "token_contract.abi"
   ]
  },
  {
   "cell_type": "code",
   "execution_count": null,
   "id": "1ab4d88a",
   "metadata": {},
   "outputs": [],
   "source": [
    " nonce = w3.eth.get_transaction_count(owner_account.address)"
   ]
  },
  {
   "cell_type": "code",
   "execution_count": null,
   "id": "d9c08be2",
   "metadata": {},
   "outputs": [],
   "source": [
    "nonce"
   ]
  },
  {
   "cell_type": "code",
   "execution_count": null,
   "id": "e60f2961",
   "metadata": {},
   "outputs": [],
   "source": [
    "token_contract.functions.totalSupply().call()"
   ]
  },
  {
   "cell_type": "code",
   "execution_count": null,
   "id": "202944b2",
   "metadata": {},
   "outputs": [],
   "source": [
    "token_contract.functions.balanceOf(owner_account.address).call()"
   ]
  },
  {
   "cell_type": "code",
   "execution_count": null,
   "id": "47d255c0",
   "metadata": {},
   "outputs": [],
   "source": [
    "token_contract.functions.balanceOf(w3.eth.accounts[1]).call()"
   ]
  },
  {
   "cell_type": "code",
   "execution_count": null,
   "id": "36ad0abb",
   "metadata": {},
   "outputs": [],
   "source": [
    "tx_hash = token_contract.functions.transfer(w3.eth.accounts[1], 200).transact({'from': owner_account.address})"
   ]
  },
  {
   "cell_type": "code",
   "execution_count": null,
   "id": "f03ea71d",
   "metadata": {},
   "outputs": [],
   "source": [
    "tx_receipt = w3.eth.wait_for_transaction_receipt(tx_hash)"
   ]
  },
  {
   "cell_type": "code",
   "execution_count": null,
   "id": "ca54c04f",
   "metadata": {},
   "outputs": [],
   "source": [
    "tx_receipt"
   ]
  },
  {
   "cell_type": "code",
   "execution_count": null,
   "id": "bfb75c7a",
   "metadata": {},
   "outputs": [],
   "source": [
    "token_contract.functions.balanceOf(w3.eth.accounts[1]).call()"
   ]
  }
 ],
 "metadata": {
  "kernelspec": {
   "display_name": "Python 3 (ipykernel)",
   "language": "python",
   "name": "python3"
  },
  "language_info": {
   "codemirror_mode": {
    "name": "ipython",
    "version": 3
   },
   "file_extension": ".py",
   "mimetype": "text/x-python",
   "name": "python",
   "nbconvert_exporter": "python",
   "pygments_lexer": "ipython3",
   "version": "3.8.10"
  }
 },
 "nbformat": 4,
 "nbformat_minor": 5
}
