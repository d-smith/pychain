{
 "cells": [
  {
   "cell_type": "markdown",
   "id": "f1242045",
   "metadata": {},
   "source": [
    "# Hello Web 3\n",
    "\n",
    "Simple python notebook for some eth basics\n",
    "\n",
    "## Part 1 - Connect to Local Ganache Server\n",
    "\n",
    "This part shows how to connect to a local ganache node, and how to use the seed phrase associated with the instance to generate the accounts and access the private keys using the same HD scheme as the server."
   ]
  },
  {
   "cell_type": "code",
   "execution_count": null,
   "id": "0886acb3",
   "metadata": {},
   "outputs": [],
   "source": [
    "from web3 import Web3\n",
    "w3 = Web3(Web3.HTTPProvider('http://127.0.0.1:8545'))\n",
    "print(w3.isConnected())"
   ]
  },
  {
   "cell_type": "code",
   "execution_count": null,
   "id": "bd1265e8",
   "metadata": {},
   "outputs": [],
   "source": [
    " w3.eth.get_block('latest')"
   ]
  },
  {
   "cell_type": "code",
   "execution_count": null,
   "id": "3e5c90b2",
   "metadata": {},
   "outputs": [],
   "source": [
    "# The accounts associated with the ganache node\n",
    "w3.eth.accounts"
   ]
  },
  {
   "cell_type": "code",
   "execution_count": null,
   "id": "30345d48",
   "metadata": {},
   "outputs": [],
   "source": [
    "# starting ganache deterministically with a seed phrase ensures the following seed phrase is used\n",
    "# for the pre-built accounts and keys\n",
    "seed_phrase = \"drastic alpha short deposit resource future action base gun inner cover net\""
   ]
  },
  {
   "cell_type": "code",
   "execution_count": null,
   "id": "76183dcf",
   "metadata": {},
   "outputs": [],
   "source": [
    " w3.eth.account.enable_unaudited_hdwallet_features()\n",
    "account = w3.eth.account.from_mnemonic(seed_phrase, account_path=\"m/44'/60'/0'/0/0\")"
   ]
  },
  {
   "cell_type": "code",
   "execution_count": null,
   "id": "b8c0b80a",
   "metadata": {},
   "outputs": [],
   "source": [
    "account.address"
   ]
  },
  {
   "cell_type": "code",
   "execution_count": null,
   "id": "2011d7cb",
   "metadata": {},
   "outputs": [],
   "source": [
    "account.key"
   ]
  },
  {
   "cell_type": "code",
   "execution_count": null,
   "id": "6b1265d5",
   "metadata": {},
   "outputs": [],
   "source": []
  }
 ],
 "metadata": {
  "kernelspec": {
   "display_name": "Python 3 (ipykernel)",
   "language": "python",
   "name": "python3"
  },
  "language_info": {
   "codemirror_mode": {
    "name": "ipython",
    "version": 3
   },
   "file_extension": ".py",
   "mimetype": "text/x-python",
   "name": "python",
   "nbconvert_exporter": "python",
   "pygments_lexer": "ipython3",
   "version": "3.8.10"
  }
 },
 "nbformat": 4,
 "nbformat_minor": 5
}
